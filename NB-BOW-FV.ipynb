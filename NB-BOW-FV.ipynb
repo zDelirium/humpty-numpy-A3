{
 "cells": [
  {
   "cell_type": "code",
   "execution_count": 1,
   "metadata": {},
   "outputs": [],
   "source": [
    "# Import functions from the codebase\n",
    "%run codebase.py"
   ]
  },
  {
   "cell_type": "code",
   "execution_count": 2,
   "metadata": {},
   "outputs": [
    {
     "output_type": "stream",
     "name": "stdout",
     "text": [
      "1193\n"
     ]
    }
   ],
   "source": [
    "# Load the training data (No filtering)\n",
    "feature_complete, feature_yes, feature_no, training_labels = load_training_data()\n",
    "feature_complete, feature_yes, feature_no = filter_words(feature_complete, feature_yes, feature_no)\n",
    "vocab_size = get_vocabulary_size(feature_complete)\n",
    "print (vocab_size)"
   ]
  },
  {
   "cell_type": "code",
   "execution_count": 3,
   "metadata": {},
   "outputs": [],
   "source": [
    "# Load test data\n",
    "tweet_id, tweets, test_true_labels = load_test_data('test_set00.tsv')"
   ]
  },
  {
   "cell_type": "code",
   "execution_count": 4,
   "metadata": {},
   "outputs": [],
   "source": [
    "# Do predictions on the test set\n",
    "# Training is simply computing the prior and conditional probabilities. Priors are computed once in the predict functions while conditionals are recomputed everytime instead of being computed all at once\n",
    "\n",
    "test_pred_labels, best_scores = predict(tweets, training_labels, feature_yes, feature_no, vocab_size)"
   ]
  },
  {
   "cell_type": "code",
   "execution_count": 5,
   "metadata": {},
   "outputs": [],
   "source": [
    "# Make the trace output file for the test set\n",
    "create_prediction_output_file('trace_NB-BOW-FV.txt', tweet_id, test_pred_labels, test_true_labels, best_scores)"
   ]
  },
  {
   "cell_type": "code",
   "execution_count": 6,
   "metadata": {},
   "outputs": [],
   "source": [
    "# Make the metrics output file for the test set\n",
    "create_metrics_file(\"eval_NB-BOW-FV.txt\", test_pred_labels, test_true_labels)"
   ]
  }
 ],
 "metadata": {
  "kernelspec": {
   "display_name": "Python 3",
   "language": "python",
   "name": "python3"
  },
  "language_info": {
   "codemirror_mode": {
    "name": "ipython",
    "version": 3
   },
   "file_extension": ".py",
   "mimetype": "text/x-python",
   "name": "python",
   "nbconvert_exporter": "python",
   "pygments_lexer": "ipython3",
   "version": "3.8.3-final"
  }
 },
 "nbformat": 4,
 "nbformat_minor": 2
}